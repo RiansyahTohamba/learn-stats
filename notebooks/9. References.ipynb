{
 "cells": [
  {
   "cell_type": "markdown",
   "metadata": {},
   "source": [
    "# Books, Slides, Articles\n",
    "1. Book: [Think Stats](http://greenteapress.com/thinkstats2/)\n",
    "2. Book: [All of Statistics](http://www.stat.cmu.edu/~larry/all-of-statistics/)\n",
    "2. Book: [Statistics is Easy](http://www.amazon.com/Statistics-Edition-Synthesis-Lectures-Mathematics/dp/160845570X)\n",
    "3. Workshop: Computational Statistics Workshop, Allen Donwney SciPy 2015 [Repo](https://github.com/AllenDowney/CompStats) [Video](https://www.youtube.com/watch?v=5Vjrqnk7Igs)\n",
    "4. Slides: [Statistics for Hackers](https://speakerdeck.com/jakevdp/statistics-for-hackers)"
   ]
  },
  {
   "cell_type": "code",
   "execution_count": null,
   "metadata": {
    "collapsed": true
   },
   "outputs": [],
   "source": []
  }
 ],
 "metadata": {
  "kernelspec": {
   "display_name": "Python 2",
   "language": "python",
   "name": "python2"
  },
  "language_info": {
   "codemirror_mode": {
    "name": "ipython",
    "version": 2
   },
   "file_extension": ".py",
   "mimetype": "text/x-python",
   "name": "python",
   "nbconvert_exporter": "python",
   "pygments_lexer": "ipython2",
   "version": "2.7.10"
  }
 },
 "nbformat": 4,
 "nbformat_minor": 0
}
