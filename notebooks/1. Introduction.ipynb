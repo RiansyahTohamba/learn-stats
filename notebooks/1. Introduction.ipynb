{
 "cells": [
  {
   "cell_type": "markdown",
   "metadata": {},
   "source": [
    "> **The fact that data science exists as a field is a colossal failure of statistics ** - Hadley Wickham\n",
    "\n",
    "\n",
    "# THERE ARE HACKS, DAMN HACKS, AND THERE ARE STATISTICS  \n",
    "\n",
    "\n",
    "Statistics, to most people, is a bunch of formulae, yes - invariably complicated with strong assumptions. Very few practitioners in fields outside math can derive those from first principles. But is it necessarily need to be that way?\n",
    "\n",
    "## Philosophy for this workshop\n",
    "Instead of a formula-based, discretely-structured classical framework for teaching statistics, we believe in the hackers' philosophy of DIY. \n",
    "> **I hear and I forget. I see and I remember. I do and I understand  - Confucius** \n",
    "\n",
    "What is the point of learning something if you don't know how and where to apply that? We aim to bridge that gap a bit.\n",
    "\n",
    "## Data Analysis\n",
    "\n",
    "The art of data analysis\n",
    "\n",
    "> https://github.com/amitkaps/weed/blob/master/0-Intro.ipynb\n",
    "\n",
    "#                Statistics: Inferring results about a population given a sample\n",
    "\n",
    "\n",
    "# *Where does statistics fit in Business Anaytics?*\n",
    "\n",
    "> DISCUSSION\n",
    "\n"
   ]
  },
  {
   "cell_type": "code",
   "execution_count": null,
   "metadata": {
    "collapsed": true
   },
   "outputs": [],
   "source": []
  }
 ],
 "metadata": {
  "kernelspec": {
   "display_name": "Python 3",
   "language": "python",
   "name": "python3"
  },
  "language_info": {
   "codemirror_mode": {
    "name": "ipython",
    "version": 3
   },
   "file_extension": ".py",
   "mimetype": "text/x-python",
   "name": "python",
   "nbconvert_exporter": "python",
   "pygments_lexer": "ipython3",
   "version": "3.7.1"
  }
 },
 "nbformat": 4,
 "nbformat_minor": 1
}
