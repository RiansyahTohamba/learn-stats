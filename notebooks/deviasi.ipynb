{
 "cells": [
  {
   "cell_type": "markdown",
   "metadata": {},
   "source": [
    "H0 = hipotesis nol\n",
    "H1 = hipotesis alternatif\n",
    "\n",
    "> alpha value : nilai error yg ditetapkan diawal (biasanya kesalahan yg ditetapkan = 0.05)\n",
    "> p-value : error yang terjadi setelah melakukan penelitian \n",
    "\n",
    "p-value <= alpha # HO ditolak\n",
    "\n",
    "p-value > alpha # HO diterima\n",
    "\n",
    "standard deviasi : jarak antar data ke rata-rata, semakin tinggi berarti semakin jauh jaraknya dari rata-rata\n",
    "\n",
    "std = 0\n",
    "Sebuah standar deviasi dari kumpulan data sama dengan nol menunjukkan bahwa semua nilai-nilai dalam himpunan tersebut adalah sama. \n",
    "std > x \n",
    "Sebuah nilai deviasi yang lebih besar akan memberikan makna bahwa titik data individu jauh dari nilai rata-rata.\n",
    "\n",
    "Dalam distribusi normal data, juga dikenal sebagai kurva lonceng, sebagian besar data dalam distribusi – sekitar 68% – akan jatuh dalam, kurang atau lebih satu satu standar deviasi dari mean (-σ atau +σ). \n",
    "Sebagai contoh, jika standar deviasi dari satu kumpulan data adalah 2, maka sebagian besar data pada kumpulan akan berjarak plus atau minus 2 dari rata-rata. Sekitar 95,5% dari data yang terdistribusi normal adalah dalam dua standar deviasi dari mean, dan lebih dari 99% berada dalam jarak 3 standar deviasi dari rata-rata.\n",
    "\n",
    "Untuk menghitung standar deviasi, ahli statistik pertama-tama menghitung nilai rata-rata dari semua titik data. Rata-rata adalah sama dengan jumlah dari semua nilai dalam kumpulan data dibagi dengan jumlah total titik data. Selanjutnya, penyimpangan setiap titik data dari rata-rata dihitung dengan mengurangkan nilai dari nilai rata-rata. Deviasi setiap titik data akan dikuadratkan, dan dicari penyimpangan kuadrat individu rata-rata. Nilai yang dihasilkan dikenal sebagai varians. Deviasi standar adalah akar kuadrat dari varians.\n",
    "\n",
    "Selain menggunakan analisis statistik, standar deviasi juga dapat digunakan untuk menentukan jumlah risiko dan volatilitas terkait dengan investasi tertentu. Investor dapat menghitung standar deviasi tahunan pengembalian investasi dan menggunakan angka itu untuk menentukan seberapa stabil investasi tersebut. Sebuah standar deviasi yang lebih besar akan berarti investasi yang lebih berisiko, dengan asumsi stabilitas itu adalah hasil yang diinginkan."
   ]
  },
  {
   "cell_type": "code",
   "execution_count": 19,
   "metadata": {},
   "outputs": [
    {
     "name": "stdout",
     "output_type": "stream",
     "text": [
      "mean :  30.0\n",
      "std :  14.142135623730951\n",
      "mean :  27.2\n",
      "std :  7.30479294709987\n"
     ]
    }
   ],
   "source": [
    "import numpy as np\n",
    "x = np.array([10, 20, 30,40,50])\n",
    "print(\"mean : \",np.mean(x))\n",
    "print(\"std : \",np.std(x))\n",
    "y = np.array([20, 21, 25,30,40])\n",
    "print(\"mean : \",np.mean(y))\n",
    "print(\"std : \",np.std(y))"
   ]
  },
  {
   "cell_type": "code",
   "execution_count": 24,
   "metadata": {},
   "outputs": [
    {
     "data": {
      "text/plain": [
       "Text(0, 0.5, 'sine')"
      ]
     },
     "execution_count": 24,
     "metadata": {},
     "output_type": "execute_result"
    },
    {
     "data": {
      "image/png": "[encoded data removed]",
      "text/plain": [
       "<Figure size 432x288 with 1 Axes>"
      ]
     },
     "metadata": {
      "needs_background": "light"
     },
     "output_type": "display_data"
    }
   ],
   "source": [
    "from matplotlib import pyplot as plt\n",
    "import math\n",
    "%matplotlib inline \n",
    "fig = plt.figure()\n",
    "ax = fig.add_axes([0,0,1,1])\n",
    "# ax = fig.add_axes()\n",
    "ax.plot(x,y)\n",
    "ax.set_title('sine wave')\n",
    "ax.set_xlabel('angle')\n",
    "ax.set_ylabel('sine')\n"
   ]
  }
 ],
 "metadata": {
  "kernelspec": {
   "display_name": "Python 3",
   "language": "python",
   "name": "python3"
  },
  "language_info": {
   "codemirror_mode": {
    "name": "ipython",
    "version": 3
   },
   "file_extension": ".py",
   "mimetype": "text/x-python",
   "name": "python",
   "nbconvert_exporter": "python",
   "pygments_lexer": "ipython3",
   "version": "3.7.1"
  }
 },
 "nbformat": 4,
 "nbformat_minor": 2
}
