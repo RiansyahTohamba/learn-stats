{
 "cells": [
  {
   "cell_type": "markdown",
   "metadata": {},
   "source": [
    "https://revisionmaths.com/advanced-level-maths-revision/pure-maths/calculus/area-under-curve#:~:text=The%20area%20under%20a%20curve%20between%20two%20points%20can%20be,integral%20between%20the%20two%20points.&text=Areas%20under%20the%20x%2Daxis,partly%20below%20the%20x%2Daxis."
   ]
  }
 ],
 "metadata": {
  "kernelspec": {
   "display_name": "Python 3",
   "language": "python",
   "name": "python3"
  },
  "language_info": {
   "codemirror_mode": {
    "name": "ipython",
    "version": 3
   },
   "file_extension": ".py",
   "mimetype": "text/x-python",
   "name": "python",
   "nbconvert_exporter": "python",
   "pygments_lexer": "ipython3",
   "version": "3.7.4"
  }
 },
 "nbformat": 4,
 "nbformat_minor": 2
}
