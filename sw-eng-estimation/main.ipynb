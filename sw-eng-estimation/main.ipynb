{
 "cells": [
  {
   "cell_type": "code",
   "execution_count": 8,
   "metadata": {},
   "outputs": [
    {
     "name": "stdout",
     "output_type": "stream",
     "text": [
      "10 LOC\n"
     ]
    }
   ],
   "source": [
    "#init\n",
    "# Sizing of project deliverables. \n",
    "# 1. The “size” of one or more software work products is estimated. \n",
    "# Work products include \n",
    "# 1. the external representation of software (e.g., screen, reports), \n",
    "# 2. the software itself (e.g., KLOC), \n",
    "# 3. functionality delivered (e.g., function points), and \n",
    "# 4. descriptive information (e.g., documents).\n",
    "def estSize(sizeType):\n",
    "    if sizeType == 'loc':\n",
    "        return str(10) +' KLOC'\n",
    "    else:    \n",
    "        return 10\n",
    "print(estSize('loc'))"
   ]
  },
  {
   "cell_type": "code",
   "execution_count": null,
   "metadata": {},
   "outputs": [],
   "source": [
    "# 2. Selecting project activities. The appropriate\n",
    "# process framework is selected, and the software\n",
    "# engineering task set is specified.\n",
    "# 3. Predicting staffing levels. The number of people\n",
    "# who will be available to do the work is specified.\n",
    "# Because the relationship between people available\n",
    "# and work (predicted effort) is highly nonlinear, this\n",
    "# is an important input.\n",
    "# 4. Predicting software effort. Estimation tools use one\n",
    "# or more models (Section 33.7) that relate the size\n",
    "# of the project deliverables to the effort required to\n",
    "# produce them.\n",
    "# 5. Predicting software cost. Given the results of\n",
    "# step 4, costs can be computed by allocating labor\n",
    "# rates to the project activities noted in step 2.\n",
    "# 6. Predicting software schedules. When effort,\n",
    "# staffing level, and project activities are known,\n",
    "# a draft schedule can be produced by allocating\n",
    "# labor across software engineering activities based\n",
    "# on recommended models for effort distribution\n",
    "# discussed later in this chapter."
   ]
  }
 ],
 "metadata": {
  "kernelspec": {
   "display_name": "Python 3",
   "language": "python",
   "name": "python3"
  },
  "language_info": {
   "codemirror_mode": {
    "name": "ipython",
    "version": 3
   },
   "file_extension": ".py",
   "mimetype": "text/x-python",
   "name": "python",
   "nbconvert_exporter": "python",
   "pygments_lexer": "ipython3",
   "version": "3.7.4"
  }
 },
 "nbformat": 4,
 "nbformat_minor": 2
}
