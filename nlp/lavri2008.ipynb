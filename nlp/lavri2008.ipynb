{
 "cells": [
  {
   "cell_type": "code",
   "execution_count": 34,
   "metadata": {},
   "outputs": [],
   "source": [
    "import nltk\n",
    "# Import packages\n",
    "import matplotlib.pyplot as plt\n",
    "    \n",
    "def convertToText(paper):\n",
    "    # raw/str -> token/list -> convert ke nltk.Text    \n",
    "    raw = paper.read()    \n",
    "    # type(raw) == string    \n",
    "    tokens = nltk.word_tokenize(raw)\n",
    "    # type(tokens) == list    \n",
    "    # token bisa berupa tanda-baca{?.,etc}, pos = {adverb,adj,}    \n",
    "    return nltk.Text(tokens)"
   ]
  },
  {
   "cell_type": "code",
   "execution_count": 35,
   "metadata": {},
   "outputs": [
    {
     "name": "stdout",
     "output_type": "stream",
     "text": [
      "6032 token\n",
      "1094 types\n"
     ]
    }
   ],
   "source": [
    "lavText = convertToText(open('papers/lavri2008.txt'))\n",
    "print(len(lavText),'token')\n",
    "print(len(set(lavText)), 'types')\n",
    "# bagaimana dgn phrase?\n",
    "# word type include punctuation symbols\n",
    "# so we will generally call these unique items types instead of word types.\n",
    "# jadi tdk hanya ada word tapi punctuation juga"
   ]
  },
  {
   "cell_type": "markdown",
   "metadata": {},
   "source": [
    "# tokens in NLP?\n",
    "When we count the number of tokens in a text, say, the phrase 'to be or not to be', we are counting occurrences of these sequences.\n",
    " Thus, in our example phrase ('to be or not to be') there are two occurrences of 'to', two of 'be', and one each of or and not. \n",
    "\n",
    "'to be or not to be' = 2 to + 2 be +  1 or + 1 not \n",
    "\n",
    " But there are only four distinct vocabulary items in this phrase. \n",
    " ada 4 vocab unik.  \n",
    "## distinct word vs vocab\n",
    " How many 'distinct words' does the book of Genesis contain? \n",
    " To work this out in Python, we have to pose the question slightly differently. \n",
    " The vocabulary of a text is just the 'set of tokens' that it uses, since in a set, all duplicates are collapsed together. \n",
    " \n",
    " vocab = set(token)\n",
    " \n",
    "pada python,  duplicate pada set (yang masih berupa list) di-collapse\n",
    "## collapse?\n",
    " belajar istilah collapse disini https://stackoverflow.com/questions/36594747/collapse-an-array-of-objects-on-a-property-value-in-javascript\n",
    " \n",
    " so, in this case collapse mean (2 to + 2 be +  1 or + 1 not) menjadi [to + be +  or + not]\n",
    " \n",
    " 'vocabulary items of text' = set(text). \n",
    " "
   ]
  },
  {
   "cell_type": "code",
   "execution_count": 36,
   "metadata": {},
   "outputs": [
    {
     "name": "stdout",
     "output_type": "stream",
     "text": [
      "<class 'list'>\n",
      "[1, 2, 3, 1]\n",
      "<class 'set'>\n",
      "{1, 2, 3}\n"
     ]
    }
   ],
   "source": [
    "example_list = [1,2,3,1]\n",
    "example_set = set(example_list)\n",
    "print(type(example_list))\n",
    "print(example_list)\n",
    "print(type(example_set))\n",
    "print(example_set)"
   ]
  },
  {
   "cell_type": "code",
   "execution_count": 37,
   "metadata": {},
   "outputs": [
    {
     "name": "stdout",
     "output_type": "stream",
     "text": [
      "Displaying 25 of 77 matches:\n",
      "SOFTWARE ENGINEERING AS A SCIENTIFIC AND ENGINEERING D\n",
      "E ENGINEERING AS A SCIENTIFIC AND ENGINEERING DISCIPLINE . A new interpretation\n",
      " A new interpretation of software engineering from scientific , engineering , a\n",
      "are engineering from scientific , engineering , and practical standpoints is pr\n",
      "tandpoints is proposed . Software engineering is defined as a successor of prog\n",
      "atures and attributes of software engineering as an original discipline are fou\n",
      "ts management Keywords : software engineering , scientific discipline , enginee\n",
      "neering , scientific discipline , engineering discipline , theory , programming\n",
      "es of knowledge SWEBOK ( Software Engineering Body of Knowledge ) and PMBOK ( P\n",
      " INTRODUCTION The term “ software engineering ” was first pronounced at a scien\n",
      "pacity of computer-aided software engineering ( CASE ) tools , instrumental-tec\n",
      "iety formed the SWEBOK ( Software Engineering Body of Knowledge ) in which the \n",
      "reas and a definition of software engineering ( SE ) [ 1–4 ] are presented in a\n",
      "ed form . Definition 1 . Software engineering ( SE ) is a system of methods , t\n",
      " can be mass-produced . It is the engineering aspect of the discipline , and it\n",
      " , we will try to define software engineering and its objects in a more compreh\n",
      " to define it as a scientific and engineering discipline . Institute of Program\n",
      "gic Theory of algorithms Software engineering M a n a g e m e n t t h e o r y P\n",
      "heoretical foundation of software engineering ( SE ) . It is well known that an\n",
      "heoretical foundation of software engineering for constructing abstractions of \n",
      " to obtaining and processing ( by engineering means ) information in any cybern\n",
      "implication of the scientific and engineering aspects of SE . Definition 2 . So\n",
      "s of SE . Definition 2 . Software engineering is a system of methods and means \n",
      "ethods and means of programming , engineering of planning and team process mana\n",
      "nformity Fig . 2 . Scientific and engineering disciplines of with customer ’ s \n"
     ]
    }
   ],
   "source": [
    "# concordance menunjukkan kemunculan kata tertentu beserta dengan context kemunculannya\n",
    "lavText.concordance('engineering')"
   ]
  },
  {
   "cell_type": "code",
   "execution_count": 38,
   "metadata": {},
   "outputs": [
    {
     "name": "stdout",
     "output_type": "stream",
     "text": [
      "kata-kata disekitar= engineering\n",
      "management products methods design practical activity tools systems\n",
      "also principles processes support maintenance operations addition\n",
      "distribution practice resources regulations execution\n",
      "---\n",
      "kata-kata disekitar= engineers\n",
      "knowledge activity ss se\n"
     ]
    }
   ],
   "source": [
    "sekitar_kata = 'engineering'\n",
    "print('kata-kata disekitar=',sekitar_kata)\n",
    "lavText.similar(sekitar_kata)\n",
    "sekitar_kata = 'engineers'\n",
    "print('---')\n",
    "print('kata-kata disekitar=',sekitar_kata)\n",
    "lavText.similar(sekitar_kata)\n",
    "# ss = software support\n",
    "# se = software engineer"
   ]
  },
  {
   "cell_type": "code",
   "execution_count": 39,
   "metadata": {},
   "outputs": [
    {
     "name": "stdout",
     "output_type": "stream",
     "text": [
      "Displaying 2 of 2 matches:\n",
      "a result of long-term activity of programmers ’ teams , many programs , tools ,\n",
      " of systems with participation of programmers and engineers ( planners , softwa\n",
      "Displaying 6 of 6 matches:\n",
      "w transferred into the activity of engineers that approximates the development \n",
      "h participation of programmers and engineers ( planners , software product and \n",
      "uct and process controllers , test engineers , quality engineers , etc. ) . Wit\n",
      "rollers , test engineers , quality engineers , etc. ) . Within the framework of\n",
      "tute of Electrical and Electronics Engineers ) Computer Society formed the SWEB\n",
      "s an engineering activity in which engineers of different categories perform pr\n"
     ]
    }
   ],
   "source": [
    "lavText.concordance('programmers')\n",
    "# ternyata programmer vs engineer \n",
    "# engineer \n",
    "# 1. planners, \n",
    "# 2. software product controllers \n",
    "# 3. software process controllers, \n",
    "# 4. test engineers, \n",
    "# 5. quality engineers, \n",
    "# etc.\n",
    "lavText.concordance('engineers')"
   ]
  },
  {
   "cell_type": "code",
   "execution_count": 40,
   "metadata": {},
   "outputs": [
    {
     "name": "stdout",
     "output_type": "stream",
     "text": [
      "<class 'nltk.probability.FreqDist'>\n",
      "<class 'list'>\n",
      "[('of', 479), (',', 424), ('and', 303), ('the', 270), ('.', 228), ('a', 136), ('(', 91), (')', 91), ('in', 81), ('is', 80)]\n"
     ]
    }
   ],
   "source": [
    "# kata-kata yang paling sering muncul\n",
    "lavFdist = nltk.FreqDist(lavText)\n",
    "print(type(lavFdist))\n",
    "print(type(lavFdist.most_common(10)))\n",
    "print(lavFdist.most_common(10))\n",
    "# katatertentu = \"software\"\n",
    "# print(lavFdist[katatertentu])\n",
    "# type(('rian',10)) ini tuple"
   ]
  },
  {
   "cell_type": "code",
   "execution_count": 41,
   "metadata": {},
   "outputs": [
    {
     "name": "stdout",
     "output_type": "stream",
     "text": [
      "ISI ARTIKEL LAVRI\n",
      "['Engineering', 'Software', 'activity', 'application', 'collection', 'components', 'computer', 'concepts', 'construction', 'corresponding', 'developed', 'development', 'different', 'discipline', 'engineering', 'estimation', 'execution', 'finished', 'functions', 'includes', 'knowledge', 'maintenance', 'management', 'manufacturing', 'organization', 'planning', 'presented', 'processes', 'production', 'products', 'programming', 'programs', 'requirements', 'resources', 'scientific', 'software', 'standard', 'standards', 'theoretical', 'verification']\n",
      "-----\n",
      "saring lagi\n",
      "['development', 'engineering', 'knowledge', 'management', 'processes', 'software']\n",
      "-----\n",
      "saring lagi\n",
      "['engineering', 'management', 'software']\n"
     ]
    }
   ],
   "source": [
    "# 1. belum dicoba di jupyter notebook : point 3.2  fine-grained selection of words\n",
    "# a. kata yang panjang \n",
    "# b. FreqDist\n",
    "# kombinasi a dan b cukup menggambarkan isi teks\n",
    "# 2. lalu lanjut ke poin 3.3 - collocations dan bigrams\n",
    "# 3. Nanti lanjut ke chapter 7.\n",
    "\n",
    "# jumlah huruf diatas 7 (menghindari of,the,etc) \n",
    "# frekuensi diatas 7, menghindari kata yang jarang (hapaxes)\n",
    "# jadi bagaimana cara mengambil tuple (kata,frekuensi) yang paling sering?\n",
    "\n",
    "vocabs = set(lavText)\n",
    "def cetakKata(frekuensi_kata):    \n",
    "    words = [word for word in vocabs if len(word) > 7 and lavFdist[word] > frekuensi_kata]\n",
    "    print(sorted(words))\n",
    "\n",
    "# meaningful_level_awal\n",
    "print('ISI ARTIKEL LAVRI')\n",
    "frekuensi_kata = 7\n",
    "cetakKata(frekuensi_kata)\n",
    "print('-----')\n",
    "print('saring lagi')\n",
    "frekuensi_kata = 20\n",
    "cetakKata(frekuensi_kata)\n",
    "print('-----')\n",
    "print('saring lagi')\n",
    "frekuensi_kata = 40\n",
    "cetakKata(frekuensi_kata)"
   ]
  },
  {
   "cell_type": "code",
   "execution_count": 42,
   "metadata": {},
   "outputs": [
    {
     "name": "stdout",
     "output_type": "stream",
     "text": [
      "basic process; target objects; developer organization; software\n",
      "engineering; manufacturing SPs; SOFTWARE ENGINEERING; software\n",
      "products; Project Management; knowledge areas; engineering discipline;\n",
      "oriented toward; works among; knowledge SWEBOK; quality indices;\n",
      "ISO/IEC 12207; complicated software; fundamental sciences; finished\n",
      "resources; Software engineering; different types\n"
     ]
    }
   ],
   "source": [
    "# A collocation = sequence of words yang sangat sering muncul bersamaan ('unusually often'). The book bukan collocation tapi 'lite book' adalah collocation \n",
    "# salah satu cara mendapatkan frasa yang sering muncul\n",
    "# The collocations that emerge are very specific to the 'genre of the texts'. \n",
    "lavText.collocations()"
   ]
  },
  {
   "cell_type": "code",
   "execution_count": 43,
   "metadata": {},
   "outputs": [
    {
     "name": "stdout",
     "output_type": "stream",
     "text": [
      "Displaying 25 of 37 matches:\n",
      "agement Body of Knowledge ) , basic process , infrastructure , standard . INTRO\n",
      "s that approximates the development process to a conveyor production line based\n",
      "s ( planners , software product and process controllers , test engineers , qual\n",
      " , engineering of planning and team process management of manufacturing compute\n",
      "f design results Methods of project process management Fig . 3 . Collection of \n",
      " developed with the help of a basic process or a product line . A software proj\n",
      "t can be used in SE ; ( 2 ) a basic process of SE is the core of process activi\n",
      " basic process of SE is the core of process activity in organizations developin\n",
      "ons , methodical support of a basic process of SE , and executors engaged in ma\n",
      "heck of the operations of the basic process for the correctness of realization \n",
      "s planned and , during the planning process , a project is distributed into sep\n",
      "configuration , quality , and basic process management methods in the developer\n",
      "logical and software tools Basic SE process Personnel potential of the develope\n",
      "d provides the filling of the basic process with these methods . As a result , \n",
      "tion up to a final SP . 2 . A basic process ( BP ) is a metalevel for supportin\n",
      " management , and perfection of the process itself . As a whole , a BP is a set\n",
      "ecommendations of standards for the process and personnel management . Human re\n",
      "ness . As a whole , it is the basic process and a package of documents on the r\n",
      "ting a concrete project , the basic process and its elements can be improved ( \n",
      "( Information Technology - Software Process Assessment , Part 2 : A Reference M\n",
      "A Reference Model for Processes and Process Capability ) . The readiness of all\n",
      "iness of all kinds of elements of a process and the personnel of a developer or\n",
      "rmined by the presence of the basic process , all the resources necessary for i\n",
      " and support processes . A planning process includes the actions of compiling p\n",
      "pleted works . A project management process determines project work management \n"
     ]
    }
   ],
   "source": [
    "# frasa 'basic proccess'\n",
    "lavText.concordance('process') # 25 matches"
   ]
  },
  {
   "cell_type": "code",
   "execution_count": 44,
   "metadata": {},
   "outputs": [
    {
     "name": "stdout",
     "output_type": "stream",
     "text": [
      "Displaying 12 of 12 matches:\n",
      "components ( RUCs ) , etc . ) , and target objects ( SS , program systems , fa\n",
      "ribe them , and the construction of target objects from them is performed by t\n",
      "and cost management . Let us define target objects of SE [ 3 , 6 , 7 ] . A pro\n",
      "t is a collection of interconnected target objects of different types that per\n",
      "ion ( specification ) and design of target objects and also methods of their p\n",
      "ed for designing different types of target objects ; methods of program verifi\n",
      "es , program specifications , etc . Target objects are designed with the help \n",
      "grams , classes , behaviors , etc . Target objects are verified by programming\n",
      "acity of environments for designing target objects . Their tools support the d\n",
      "rt the design of different types of target objects and also project management\n",
      "acturing SPs for different kinds of target objects using methods , means , and\n",
      "ractical aspects of construction of target software objects ( software support\n"
     ]
    }
   ],
   "source": [
    "# frasa 'target objects'\n",
    "lavText.concordance('target') # 12 matches\n",
    "target_objects_se = [\n",
    "    'Software System', \n",
    "    'program systems', 'families of systems', 'software projects', \n",
    "    'complicated software systems'\n",
    "]\n",
    "software = ['DB persistent','UI_UX','']"
   ]
  },
  {
   "cell_type": "markdown",
   "metadata": {},
   "source": [
    "# hasil dari collocations menunjukkan bahwa     \n",
    "1. 'basic process' adalah frasa yang sering muncul\n",
    "2. 'process' adalah kata yang juga sering muncul\n",
    "\n",
    "## korelasi process dan method\n",
    "~~~ \n",
    "method =  [refactoring, tdd, solid,etc]\n",
    "process = [agile,waterfall,etc]\n",
    "~~~\n",
    "\n",
    "karena risetku ada di method, apakah refactoring affect proccess?\n",
    "\n",
    "### asumsi\n",
    "1. waterfall menitikberatkan pada planning (dengan dokumentasi yang lengkap) dan seminimal mungkin kesalahan dalam implementasi ,karena back to previous step costing much\n",
    "2. refactoring emphasize pada development iteratif, dimana diawal proyek masih mungkin ada down quality maka kita improve terus code nya"
   ]
  }
 ],
 "metadata": {
  "kernelspec": {
   "display_name": "Python 3",
   "language": "python",
   "name": "python3"
  },
  "language_info": {
   "codemirror_mode": {
    "name": "ipython",
    "version": 3
   },
   "file_extension": ".py",
   "mimetype": "text/x-python",
   "name": "python",
   "nbconvert_exporter": "python",
   "pygments_lexer": "ipython3",
   "version": "3.7.4"
  }
 },
 "nbformat": 4,
 "nbformat_minor": 2
}
