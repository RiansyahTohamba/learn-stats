{
 "cells": [
  {
   "cell_type": "code",
   "execution_count": 1,
   "metadata": {},
   "outputs": [],
   "source": [
    "import nltk\n",
    "def convertToText(paper):\n",
    "    # raw/str -> token/list -> convert ke nltk.Text    \n",
    "    raw = paper.read()    \n",
    "    # type(raw) == string    \n",
    "    tokens = nltk.word_tokenize(raw)\n",
    "    # type(tokens) == list    \n",
    "    # token bisa berupa tanda-baca{?.,etc}, pos = {adverb,adj,}    \n",
    "    return nltk.Text(tokens)"
   ]
  },
  {
   "cell_type": "code",
   "execution_count": 2,
   "metadata": {},
   "outputs": [
    {
     "name": "stdout",
     "output_type": "stream",
     "text": [
      "6075 token\n",
      "1102 types\n"
     ]
    }
   ],
   "source": [
    "lavText = convertToText(open('papers/lavri2008.txt'))\n",
    "print(len(lavText),'token')\n",
    "print(len(set(lavText)), 'types')\n",
    "# bagaimana dgn phrase?\n",
    "# word type include punctuation symbols\n",
    "# so we will generally call these unique items types instead of word types.\n",
    "# jadi tdk hanya ada word tapi punctuation juga"
   ]
  },
  {
   "cell_type": "markdown",
   "metadata": {},
   "source": [
    "# tokens in NLP?\n",
    "When we count the number of tokens in a text, say, the phrase 'to be or not to be', we are counting occurrences of these sequences.\n",
    " Thus, in our example phrase ('to be or not to be') there are two occurrences of 'to', two of 'be', and one each of or and not. \n",
    "\n",
    "'to be or not to be' = 2 to + 2 be +  1 or + 1 not \n",
    "\n",
    " But there are only four distinct vocabulary items in this phrase. \n",
    " ada 4 vocab unik.  \n",
    "## distinct word vs vocab\n",
    " How many 'distinct words' does the book of Genesis contain? \n",
    " To work this out in Python, we have to pose the question slightly differently. \n",
    " The vocabulary of a text is just the 'set of tokens' that it uses, since in a set, all duplicates are collapsed together. \n",
    " \n",
    " vocab = set(token)\n",
    " \n",
    "pada python,  duplicate pada set (yang masih berupa list) di-collapse\n",
    "## collapse?\n",
    " belajar istilah collapse disini https://stackoverflow.com/questions/36594747/collapse-an-array-of-objects-on-a-property-value-in-javascript\n",
    " \n",
    " so, in this case collapse mean (2 to + 2 be +  1 or + 1 not) menjadi [to + be +  or + not]\n",
    " \n",
    " 'vocabulary items of text' = set(text). \n",
    " "
   ]
  },
  {
   "cell_type": "code",
   "execution_count": 3,
   "metadata": {},
   "outputs": [
    {
     "name": "stdout",
     "output_type": "stream",
     "text": [
      "<class 'list'>\n",
      "[1, 2, 3, 1]\n",
      "<class 'set'>\n",
      "{1, 2, 3}\n"
     ]
    }
   ],
   "source": [
    "example_list = [1,2,3,1]\n",
    "example_set = set(example_list)\n",
    "print(type(example_list))\n",
    "print(example_list)\n",
    "print(type(example_set))\n",
    "print(example_set)"
   ]
  },
  {
   "cell_type": "code",
   "execution_count": 4,
   "metadata": {},
   "outputs": [
    {
     "name": "stdout",
     "output_type": "stream",
     "text": [
      "Displaying 25 of 77 matches:\n",
      "SOFTWARE ENGINEERING AS A SCIENTIFIC AND ENGINEERING D\n",
      "E ENGINEERING AS A SCIENTIFIC AND ENGINEERING DISCIPLINE . A new interpretation\n",
      " A new interpretation of software engineering from scientific , engineering , a\n",
      "are engineering from scientific , engineering , and practical standpoints is pr\n",
      "tandpoints is proposed . Software engineering is defined as a successor of prog\n",
      "atures and attributes of software engineering as an original discipline are fou\n",
      "ts management Keywords : software engineering , scientific discipline , enginee\n",
      "neering , scientific discipline , engineering discipline , theory , programming\n",
      "es of knowledge SWEBOK ( Software Engineering Body of Knowledge ) and PMBOK ( P\n",
      " INTRODUCTION The term “ software engineering ” was first pronounced at a scien\n",
      "pacity of computer-aided software engineering ( CASE ) tools , instrumental-tec\n",
      "iety formed the SWEBOK ( Software Engineering Body of Knowledge ) in which the \n",
      "reas and a definition of software engineering ( SE ) [ 1–4 ] are presented in a\n",
      "ed form . Definition 1 . Software engineering ( SE ) is a system of methods , t\n",
      " can be mass-produced . It is the engineering aspect of the discipline , and it\n",
      " , we will try to define software engineering and its objects in a more compreh\n",
      " to define it as a scientific and engineering discipline . Institute of Program\n",
      "gic Theory of algorithms Software engineering M a n a g e m e n t t h e o r y P\n",
      "heoretical foundation of software engineering ( SE ) . It is well known that an\n",
      "heoretical foundation of software engineering for constructing abstractions of \n",
      " to obtaining and processing ( by engineering means ) information in any cybern\n",
      "implication of the scientific and engineering aspects of SE . Definition 2 . So\n",
      "s of SE . Definition 2 . Software engineering is a system of methods and means \n",
      "ethods and means of programming , engineering of planning and team process mana\n",
      " cid:1 ) Fig . 2 . Scientific and engineering disciplines of with customer ’ s \n"
     ]
    }
   ],
   "source": [
    "lavText.concordance('engineering')"
   ]
  },
  {
   "cell_type": "code",
   "execution_count": 5,
   "metadata": {},
   "outputs": [
    {
     "name": "stdout",
     "output_type": "stream",
     "text": [
      "engineering similiar\n",
      "management products methods design practical activity tools systems\n",
      "also principles processes support maintenance operations addition\n",
      "distribution practice resources regulations execution\n",
      "\n",
      "engineers similiar\n",
      "knowledge activity ss se\n"
     ]
    }
   ],
   "source": [
    "print('engineering similiar')\n",
    "lavText.similar('engineering')\n",
    "print('\\nengineers similiar')\n",
    "lavText.similar('engineers')\n",
    "# ss = software support\n",
    "# se = software engineer"
   ]
  },
  {
   "cell_type": "code",
   "execution_count": 6,
   "metadata": {},
   "outputs": [
    {
     "name": "stdout",
     "output_type": "stream",
     "text": [
      "Displaying 2 of 2 matches:\n",
      "a result of long-term activity of programmers ’ teams , many programs , tools ,\n",
      " of systems with participation of programmers and engineers ( planners , softwa\n",
      "Displaying 6 of 6 matches:\n",
      "w transferred into the activity of engineers that approximates the development \n",
      "h participation of programmers and engineers ( planners , software product and \n",
      "uct and process controllers , test engineers , quality engineers , etc. ) . Wit\n",
      "rollers , test engineers , quality engineers , etc. ) . Within the framework of\n",
      "tute of Electrical and Electronics Engineers ) Computer Society formed the SWEB\n",
      "s an engineering activity in which engineers of different categories perform pr\n"
     ]
    }
   ],
   "source": [
    "lavText.concordance('programmers')\n",
    "# ternyata programmer vs engineer \n",
    "# engineer \n",
    "# 1. planners, \n",
    "# 2. software product controllers \n",
    "# 3. software process controllers, \n",
    "# 4. test engineers, \n",
    "# 5. quality engineers, \n",
    "# etc.\n",
    "lavText.concordance('engineers')"
   ]
  },
  {
   "cell_type": "code",
   "execution_count": 7,
   "metadata": {},
   "outputs": [
    {
     "data": {
      "text/plain": [
       "[('of', 479),\n",
       " (',', 424),\n",
       " ('and', 303),\n",
       " ('the', 270),\n",
       " ('.', 228),\n",
       " ('a', 136),\n",
       " ('(', 103),\n",
       " (')', 103),\n",
       " ('in', 81),\n",
       " ('is', 80)]"
      ]
     },
     "execution_count": 7,
     "metadata": {},
     "output_type": "execute_result"
    }
   ],
   "source": [
    "# kata-kata yang paling sering muncul\n",
    "fdist = nltk.FreqDist(lavText)\n",
    "fdist.most_common(10)"
   ]
  },
  {
   "cell_type": "code",
   "execution_count": 8,
   "metadata": {},
   "outputs": [],
   "source": [
    "vocabs = set(lavText)\n",
    "def filterLength(word):\n",
    "\treturn len(word) > 7 and FreqDist(word) > 7\n",
    "\n",
    "[word for word in vocabs if filterLength(word)]"
   ]
  }
 ],
 "metadata": {
  "kernelspec": {
   "display_name": "Python 3",
   "language": "python",
   "name": "python3"
  },
  "language_info": {
   "codemirror_mode": {
    "name": "ipython",
    "version": 3
   },
   "file_extension": ".py",
   "mimetype": "text/x-python",
   "name": "python",
   "nbconvert_exporter": "python",
   "pygments_lexer": "ipython3",
   "version": "3.7.4"
  }
 },
 "nbformat": 4,
 "nbformat_minor": 2
}
