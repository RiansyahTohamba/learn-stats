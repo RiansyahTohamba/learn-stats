{
 "cells": [
  {
   "cell_type": "code",
   "execution_count": 2,
   "metadata": {},
   "outputs": [],
   "source": [
    "import nltk\n",
    "def convertToText(paper):\n",
    "    # raw/str -> token/list -> convert ke nltk.Text    \n",
    "    raw = paper.read()    \n",
    "    # type(raw) == string    \n",
    "    tokens = nltk.word_tokenize(raw)\n",
    "    # type(tokens) == list    \n",
    "    # token bisa berupa tanda-baca{?.,etc}, pos = {adverb,adj,}    \n",
    "    return nltk.Text(tokens)"
   ]
  },
  {
   "cell_type": "code",
   "execution_count": 3,
   "metadata": {},
   "outputs": [
    {
     "name": "stdout",
     "output_type": "stream",
     "text": [
      "Displaying 23 of 23 matches:\n",
      "t is essential to deﬁne meaningful threshold values . These have been deﬁned fo\n",
      " . For example , McCabe proposed a threshold value of 10 for his complexity met\n",
      "inable and untestable [ 1 ] . This threshold was inspired by experience in a pa\n",
      " present a method to derive metric threshold values empirically from the measur\n",
      "McCabe metric 10 was deﬁned as the threshold [ 1 ] , and for the NPATH metric 2\n",
      "NPATH metric 200 was deﬁned as the threshold [ 5 ] . Above these values , metho\n",
      "andard deviation ( σ ) to derive a threshold T from project data . A threshold \n",
      " threshold T from project data . A threshold T is calculated as T = µ + σ or T \n",
      " normal distributions ) . A metric threshold T can σ , where k is the number of\n",
      "ity models are compared , one with threshold and one without . For the model wi\n",
      "d one without . For the model with threshold , zero probability of error exists\n",
      "exists for metric values below the threshold . The authors conclude that there \n",
      "evidence supporting the model with threshold as there is no signiﬁcant differen\n",
      "c values higher or lower a speciﬁc threshold ( resembling a U-shape ) . The stu\n",
      "e is no empirical evidence for the threshold model used to predict faults . How\n",
      "ze ( 48 % ) . IV . BENCHMARK-BASED THRESHOLD DERIVATION The methodology propose\n",
      "or the McCabe metric , the derived threshold is 14 . This threshold is meaningf\n",
      "the derived threshold is 14 . This threshold is meaningful , since not only it \n",
      "choosing a quantile for deriving a threshold . Choosing a quantile for which th\n",
      "ty ( e.g . 20 % ) will result in a threshold which will not allow to distinguis\n",
      " complexity , will result in lower threshold values . On the other hand , the e\n",
      "complexity , will result in higher threshold values . Hence , it is extremely i\n",
      "ts in our methodology for deriving threshold were analyzed as well as threats t\n"
     ]
    }
   ],
   "source": [
    "# A concordance view shows us every occurrence of a given word, together with some context. \n",
    "alvesText = convertToText(open('papers/alves2010.txt'))\n",
    "alvesText.concordance('threshold')"
   ]
  },
  {
   "cell_type": "code",
   "execution_count": 4,
   "metadata": {},
   "outputs": [
    {
     "name": "stdout",
     "output_type": "stream",
     "text": [
      "Displaying 25 of 82 matches:\n",
      "indered by the lack of meaningful thresholds . Thresholds have been proposed f\n",
      "e lack of meaningful thresholds . Thresholds have been proposed for a few metr\n",
      "or systematically deriving metric thresholds have made unjustiﬁed assumptions \n",
      "eral applicability of the derived thresholds is jeopardized . We designed a me\n",
      "d a method that determines metric thresholds empirically from measurement data\n",
      "pooled and aggregated after which thresholds are selected that ( i ) bring out\n",
      "etary and open-source , to derive thresholds for metrics included in the SIG m\n",
      "y applicable . For most metrics , thresholds are lacking or do not generalize \n",
      "ﬁrst pooled and aggregated . Then thresholds are determined that ( i ) bring o\n",
      " in mind to avoid the problems of thresholds based on expert opinion and of ea\n",
      "aches to systematic derivation of thresholds . 1 ) The method should not be dr\n",
      " of earlier attempts to determine thresholds . Section III demonstrates the us\n",
      "ction III demonstrates the use of thresholds derived through our method , taki\n",
      "previous attempts to deﬁne metric thresholds . We start by describing works wh\n",
      "e start by describing works where thresholds are deﬁned by experience . Then ,\n",
      " detail methodologies that derive thresholds based on data analysis , which ar\n",
      "w about methodologies that derive thresholds based on error information and fr\n",
      "ethodology was designed to derive thresholds from benchmark data and such is r\n",
      "use 100 Java and C # systems . A. Thresholds derived from experience C. Thresh\n",
      "sholds derived from experience C. Thresholds using error models Many authors d\n",
      "models Many authors deﬁned metric thresholds according to their experience . F\n",
      " metric , 65 and 85 are deﬁned as thresholds [ 6 ] . Methods whose metric valu\n",
      " to dispute about the values . B. Thresholds from metric analysis − Erni et al\n",
      "ristic ( ROC ) method to identify thresholds to predict the existence of bugs \n",
      "tnawi et al . were able to derive thresholds to predict errors , there are two\n"
     ]
    }
   ],
   "source": [
    "# dibedakan dengan threshold vs thresholds = noun vs noun+s\n",
    "alvesText.concordance('thresholds')"
   ]
  },
  {
   "cell_type": "code",
   "execution_count": 5,
   "metadata": {},
   "outputs": [
    {
     "name": "stdout",
     "output_type": "stream",
     "text": [
      "metric method paper distribution metrics thresholds code distributions\n",
      "size mccabe quality section methodology results mean chidamber\n",
      "performance sample box quantile\n"
     ]
    }
   ],
   "source": [
    "# What other words appear in a similar range of contexts? We can find out by appending the term similar to the name of the text in question, then inserting the relevant word in parentheses:\n",
    "# noun vs noun+s wkwkwk \n",
    "## gimana cara deteksi phrases/frasa? apakah masalah besar? tidak apa-apa\n",
    "# box = box plot\n",
    "# chidamber  = chidamber kemerer\n",
    "# similar? = Distributional similarity: find other words which appear in the same contexts as the specified word; list most similar words first.\n",
    "alvesText.similar('threshold')"
   ]
  },
  {
   "cell_type": "code",
   "execution_count": 6,
   "metadata": {},
   "outputs": [
    {
     "name": "stdout",
     "output_type": "stream",
     "text": [
      "we the code systems benchmark technique quantiles metrics use metric\n",
      "that empirically variability distributions values criteria threshold\n",
      "scale distribution analyze\n"
     ]
    }
   ],
   "source": [
    "alvesText.similar('thresholds')"
   ]
  }
 ],
 "metadata": {
  "kernelspec": {
   "display_name": "Python 3",
   "language": "python",
   "name": "python3"
  },
  "language_info": {
   "codemirror_mode": {
    "name": "ipython",
    "version": 3
   },
   "file_extension": ".py",
   "mimetype": "text/x-python",
   "name": "python",
   "nbconvert_exporter": "python",
   "pygments_lexer": "ipython3",
   "version": "3.7.4"
  }
 },
 "nbformat": 4,
 "nbformat_minor": 2
}
