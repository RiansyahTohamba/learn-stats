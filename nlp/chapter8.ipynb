{
 "cells": [
  {
   "cell_type": "markdown",
   "metadata": {},
   "source": [
    "1. How can we use a formal grammar to describe the structure of an unlimited set of sentences?\n",
    "2. How do we represent the structure of sentences using syntax trees?\n",
    "3. How do parsers analyze a sentence and automatically build a syntax tree?"
   ]
  },
  {
   "cell_type": "markdown",
   "metadata": {},
   "source": [
    "Sentences have an 'interesting-property' that they can be embedded inside larger sentences. Consider the following sentences\n",
    "\n",
    "a. 'Usain Bolt broke the 100m record'\n",
    "b. The Jamaica Observer reported that 'Usain Bolt broke the 100m record'\n",
    "c. Andre said The Jamaica Observer reported that 'Usain Bolt broke the 100m record'\n",
    "d. I think Andre said the Jamaica Observer reported that Usain Bolt broke the 100m record\n",
    "\n",
    "If we replaced whole sentences with the symbol S, we would see patterns like \n",
    "'Andre said S '\n",
    "and \n",
    "'I think S. '\n",
    "\n",
    "These are templates for taking a sentence and constructing a bigger sentence. \n"
   ]
  },
  {
   "cell_type": "code",
   "execution_count": 13,
   "metadata": {},
   "outputs": [
    {
     "data": {
      "text/plain": [
       "\"In after-years he liked to think that he had been in Very Great Danger during the Terrible Flood,but, the only danger he had really been in was the last half-hour of his imprisonment when Owl, who had just flown up, sat on a branch of his tree to comfort him, and told him a very long story about an aunt who had once laid a seagull's egg by mistake, and the story went on and on, rather like this sentence, until Piglet who was listening out of his window without much hope, went to sleep quietly and naturally, slipping slowly out of the window towards the water until he was only hanging on by his toes, at which moment, luckily, a sudden loud squawk from Owl, which was really part of the story, being what his aunt said, woke the Piglet up and just gave him time to jerk himself back into safety and say, 'How interesting, and did she?' when — well, you can imagine his joy when at last he saw the good ship, Brain of Pooh (Captain, C. Robin; 1st Mate, P. Bear) coming over the sea to rescue him\""
      ]
     },
     "execution_count": 13,
     "metadata": {},
     "output_type": "execute_result"
    }
   ],
   "source": [
    "# There are templates we can use, like 'S but S', and 'S when S'. \n",
    "# With a bit of ingenuity we can construct some really long sentences using these templates.\n",
    "sen_1 = \"In after-years he liked to think that he had been in Very Great Danger during the Terrible Flood,\"\n",
    "sen_2 = \"the only danger he had really been in was the last half-hour of his imprisonment\"\n",
    "sen_3 = \"Owl, who had just flown up, sat on a branch of his tree to comfort him, and told him a very long story about an aunt who had once laid a seagull's egg by mistake, and the story went on and on, rather like this sentence, until Piglet who was listening out of his window without much hope, went to sleep quietly and naturally, slipping slowly out of the window towards the water until he was only hanging on by his toes, at which moment, luckily, a sudden loud squawk from Owl, which was really part of the story, being what his aunt said, woke the Piglet up and just gave him time to jerk himself back into safety and say, 'How interesting, and did she?' when — well, you can imagine his joy when at last he saw the good ship, Brain of Pooh (Captain, C. Robin; 1st Mate, P. Bear) coming over the sea to rescue him\"\n",
    "\n",
    "# This long sentence actually has a simple structure \n",
    "# that begins 'S but S when S'. \n",
    "paragraph = sen_1 + \"but, \"+sen_2+\" when \"+sen_3\n",
    "paragraph\n",
    "\n",
    "#  We can see from this example that \n",
    "# language provides us with 'constructions' \n",
    "# which seem to allow us to extend sentences indefinitely. \n",
    "\n",
    "# It is also striking that we can understand sentences of 'arbitrary length' \n",
    "# that we've never heard before: \n",
    "# it's not hard to concoct an entirely novel sentence, one that has probably never been used before in the history of the language, yet all speakers of the language will understand it."
   ]
  },
  {
   "cell_type": "markdown",
   "metadata": {},
   "source": [
    "# parse tree graph\n",
    "kita bisa buat parse tree untuk memahami sentences yang kita anggap rummit (ya ga?)\n",
    "tapi nanti gambar parse nya jadi numpuk, tidak masalah?\n",
    "\n",
    "apakai dengan beta-redux maka kalimat majemuk itu menjadi lebih sederhana?\n"
   ]
  },
  {
   "cell_type": "markdown",
   "metadata": {},
   "source": [
    "# CFG\n",
    "tentang 'formal framework of generative grammar'\n",
    "languange  = set_collect(grammatical_sentences)\n",
    "languange disini diartikan sbg kumpulan kalimat\n",
    "\n",
    "grammar = formal notation for \"generating\" the members of languange\n",
    "\n",
    "Grammars use recursive productions of the form \n",
    "S → 'S and S'\n",
    "detailnya dijelaskan di point 3 CFG\n",
    "\n",
    "Chapter 10 nanti, data hasil CFG ini bisa digunakan untuk build up the meaning of a sentence out of the meanings of its parts."
   ]
  },
  {
   "cell_type": "code",
   "execution_count": 2,
   "metadata": {},
   "outputs": [
    {
     "name": "stdout",
     "output_type": "stream",
     "text": [
      "(S (NP John) (VP (V saw) (NP (Det a) (N dog))))\n"
     ]
    }
   ],
   "source": [
    "import nltk\n",
    "grammar1 = nltk.CFG.fromstring(\"\"\"\n",
    " S -> NP VP\n",
    " VP -> V NP | V NP PP\n",
    " PP -> P NP\n",
    " V -> \"saw\" | \"ate\" | \"walked\"\n",
    " NP -> \"John\" | \"Mary\" | \"Bob\" | Det N | Det N PP\n",
    " Det -> \"a\" | \"an\" | \"the\" | \"my\"\n",
    " N -> \"man\" | \"dog\" | \"cat\" | \"telescope\" | \"park\"\n",
    " P -> \"in\" | \"on\" | \"by\" | \"with\"\n",
    " \"\"\")\n",
    "sent = \"Mary saw Bob\".split()\n",
    "sent = \"John saw a dog\".split()\n",
    "rd_parser = nltk.RecursiveDescentParser(grammar1)\n",
    "for tree in rd_parser.parse(sent):\n",
    "    print(tree)"
   ]
  },
  {
   "cell_type": "code",
   "execution_count": 9,
   "metadata": {},
   "outputs": [],
   "source": [
    "import nltk\n",
    "# ini ada di chapter 7\n",
    "def ie_preprocess(document):\n",
    "    sentences = nltk.sent_tokenize(document)\n",
    "    sentences = [nltk.word_tokenize(sent) for sent in sentences]\n",
    "    sentences = [nltk.pos_tag(sent) for sent in sentences]    \n",
    "    return sentences"
   ]
  },
  {
   "cell_type": "code",
   "execution_count": null,
   "metadata": {},
   "outputs": [],
   "source": []
  }
 ],
 "metadata": {
  "kernelspec": {
   "display_name": "Python 3",
   "language": "python",
   "name": "python3"
  },
  "language_info": {
   "codemirror_mode": {
    "name": "ipython",
    "version": 3
   },
   "file_extension": ".py",
   "mimetype": "text/x-python",
   "name": "python",
   "nbconvert_exporter": "python",
   "pygments_lexer": "ipython3",
   "version": "3.7.4"
  }
 },
 "nbformat": 4,
 "nbformat_minor": 2
}
