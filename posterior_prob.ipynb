{
 "cells": [
  {
   "cell_type": "markdown",
   "metadata": {},
   "source": [
    "# Posterior Probabilities"
   ]
  },
  {
   "cell_type": "raw",
   "metadata": {},
   "source": [
    "definisi regresi logistik di buku ESLII\n",
    "\"The logistic regression model arises from the desire to model the 'posterior probabilities' of the K classes via linear functions in x, while at the same time, that is, they sum to one and remain in [0, 1]\"\n",
    "\n",
    "nah posterior probabilities itu apa?"
   ]
  },
  {
   "cell_type": "code",
   "execution_count": 7,
   "metadata": {},
   "outputs": [
    {
     "ename": "SyntaxError",
     "evalue": "invalid syntax (<ipython-input-7-7f9d0768a4dc>, line 8)",
     "output_type": "error",
     "traceback": [
      "\u001b[0;36m  File \u001b[0;32m\"<ipython-input-7-7f9d0768a4dc>\"\u001b[0;36m, line \u001b[0;32m8\u001b[0m\n\u001b[0;31m    return (factorial(n) / (factorial(x) * factorial(n - x))) * (theta  x) * ((1 - theta)  (n - x))\u001b[0m\n\u001b[0m                                                                        ^\u001b[0m\n\u001b[0;31mSyntaxError\u001b[0m\u001b[0;31m:\u001b[0m invalid syntax\n"
     ]
    }
   ],
   "source": [
    "import pandas as pd\n",
    "import math\n",
    "from scipy import stats\n",
    "from scipy.special import factorial\n",
    "from matplotlib import pyplot as plt\n",
    "\n",
    "def likelihood(theta, n, x):\n",
    "    return (factorial(n) / (factorial(x) * factorial(n - x))) * (theta  x) * ((1 - theta)  (n - x))\n",
    "\n",
    "def pprob(prior, posterior, n_occured, n_events):\n",
    "    return pd.Series(map(lambda theta: likelihood(theta, n_events, n_occured), prior))\n",
    "\n",
    "def generative_model(n_events, p):\n",
    "    return np.random.binomial(n_events, p)\n",
    "\n",
    "def ABC(n_occured, n_events, n_draws=1000):\n",
    "    prior = pd.Series(sorted(np.random.uniform(0, 1, size=n_draws)))\n",
    "    sim_data = [generative_model(n_events ,p) for p in prior]\n",
    "    posterior = prior[list(map(lambda x: x == n_occured, sim_data))]\n",
    "    posterior_probability = pprob(prior, posterior, n_occured, n_events)\n",
    "\n",
    "    # let's see what we got\n",
    "    f, ax = plt.subplots(1)\n",
    "    ax.plot(prior, posterior_probability)\n",
    "    ax.set_xlabel(\"Theta\")\n",
    "    ax.set_ylabel(\"Likelihood\")\n",
    "    ax.grid()\n",
    "    ax.set_title(\"Likelihood of Theta for New Campaign\")\n",
    "    plt.show()\n",
    "\n",
    "ABC(10, 16)"
   ]
  },
  {
   "cell_type": "code",
   "execution_count": null,
   "metadata": {},
   "outputs": [],
   "source": []
  }
 ],
 "metadata": {
  "kernelspec": {
   "display_name": "Python 3",
   "language": "python",
   "name": "python3"
  },
  "language_info": {
   "codemirror_mode": {
    "name": "ipython",
    "version": 3
   },
   "file_extension": ".py",
   "mimetype": "text/x-python",
   "name": "python",
   "nbconvert_exporter": "python",
   "pygments_lexer": "ipython3",
   "version": "3.7.1"
  }
 },
 "nbformat": 4,
 "nbformat_minor": 2
}
