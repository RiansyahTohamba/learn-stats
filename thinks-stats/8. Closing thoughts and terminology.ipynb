{
 "cells": [
  {
   "cell_type": "markdown",
   "metadata": {},
   "source": [
    "# Terminology\n",
    "\n",
    "1. Null Hypothesis\n",
    "2. Alternate Hypothesis\n",
    "3. p-value (Probability of observing the metric from the data at least as extreme as computed just by chance)\n",
    "4. Bootstrap\n",
    "5. Acceptance Region\n",
    "6. Rejection Region\n",
    "7. t-test\n",
    "8. One-tailed test\n",
    "9. Two-tailed test\n",
    "10. Significance test\n",
    "11. Confidence interval\n",
    "12. Power of a test\n",
    "13. type 1 error (Rejecting null hypothesis when it is true). Also called false positive.\n",
    "14. type 2 error (Failing to reject null hypothesis when it is false). Also called false negative\n",
    "\n",
    "# Some Practical thoughts \n",
    "\n",
    "1. Data could be biased. Confidence intervals may then not be representative.\n",
    "2. One way to handle biased data is to use bias-corrected-confidence-intervals. \n",
    "3. Outliers can impact confidence intervals. \n",
    "4. Too often, people remove outliers. But they might be encoding some necessary information.\n",
    "5. One way to handle outliers is to use ranking, instead of actual numbers.\n",
    "6. If sample size is small, bootstrapping underestimates the size of confidence interval. \n",
    "7. Better to use significance testing if sample size is small.\n",
    "8. Bootstrapping should not be used find maximum value (Eg: maximum sales of shoes, 5th largest sales of shoes, etc)\n",
    "9. Use rank transformation when using bootstrapping, if the data has outliers\n",
    "10. Lack of representativeness is a problem for any statistical technique\n",
    "11. The experiment should be random. (Eg: When doing A/B testing, randomize the subjects). Experimental bias can lead to wrong inferences. \n",
    "12. Resampling time series data is tricky. The assumption we used - that each data point is independent, doesn't hold good for time series data. \n",
    "13. Rank transformation changes the question. For our shoe sales example, a rank transformed analysis would be: \"Do sales tend to be higher after price optimization?\". (Our analysis was: \"Does post-price-optimization sales have a higher mean sales?\")\n",
    "14. Power of a test increases if sample size increases\n",
    "\n",
    "# Types of Error\n",
    "\n",
    "1. Sampling Bias\n",
    "2. Measurement Error\n",
    "3. Random Error\n"
   ]
  }
 ],
 "metadata": {
  "kernelspec": {
   "display_name": "Python 2",
   "language": "python",
   "name": "python2"
  },
  "language_info": {
   "codemirror_mode": {
    "name": "ipython",
    "version": 2
   },
   "file_extension": ".py",
   "mimetype": "text/x-python",
   "name": "python",
   "nbconvert_exporter": "python",
   "pygments_lexer": "ipython2",
   "version": "2.7.10"
  }
 },
 "nbformat": 4,
 "nbformat_minor": 0
}
