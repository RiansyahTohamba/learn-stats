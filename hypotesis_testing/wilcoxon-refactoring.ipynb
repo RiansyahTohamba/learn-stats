{
 "cells": [
  {
   "cell_type": "markdown",
   "metadata": {},
   "source": [
    " uji wilcoxon dibagi 2 \n",
    " 1. scipy.stats.wilcoxon : Wilcoxon Signed Rank Test nama lainnya Wilcoxon Match Pair Test, untuk mengukur signifikansi perbedaan antara 2 kelompok data berpasangan berskala ordinal atau interval tetapi berdistribusi tidak normal.\n",
    " contoh: untuk membandingkan cbo class in before vs after refactoring\n",
    " 2. scipy.stats.ranksums or scipy.stats.mannwhitneyu : Uji Wilcoxon Rank Sum Test(alias Mann Whitney U Test) merupakan uji beda nonparametris 2 kelompok data yang tidak berpasangan. atau disebut data bebas/independen. \n",
    "\n",
    " Penelitian sebelumnya menggunakan expert judgment untuk menilai apakah smell sudah terdeteksi dengan benar. Pada penelitian ini, akurasi deteksi smell ditentukan dengan keberhasilan rekomendasi refactoring untuk menghilangan smell tersebut. Keberhasilan skenario reactoring ditentukan dengan menurunkan nilai coupling CBO secara signifikan. Uji hipotesis wilcoxon-paired test akan dilakukan untuk menilai apakah refactoring berhasil menghilangkan smell secara signifikan.\n",
    "\n",
    " #### H0 : Skenario Refactoring InIn Smell tidak dapat menurunkan kopling antar-kelas.\n",
    " ### H1 : Skenario Refactoring InIn Smell dapat menurunkan kopling antar-kelas.\n",
    "\n"
   ]
  },
  {
   "cell_type": "code",
   "execution_count": 22,
   "metadata": {},
   "outputs": [
    {
     "name": "stdout",
     "output_type": "stream",
     "text": [
      "2.872340425531915 %\n"
     ]
    }
   ],
   "source": [
    "# classes that have high CBO value (Cari lagi !!)\n",
    "import pandas as pd\n",
    "high_cbo = pd.read_csv(\"../data/CBO_classes.csv\")\n",
    "total_cls = 940\n",
    "percent_sample = len(high_cbo)/total_cls * 100\n",
    "print(percent_sample,\"%\")"
   ]
  },
  {
   "cell_type": "code",
   "execution_count": 21,
   "metadata": {},
   "outputs": [
    {
     "name": "stdout",
     "output_type": "stream",
     "text": [
      "p-value  5.606116527496013e-06\n"
     ]
    }
   ],
   "source": [
    "import numpy as np\n",
    "from scipy.stats import ttest_1samp, wilcoxon, ttest_ind, mannwhitneyu\n",
    "import random\n",
    "\n",
    "cls_before = np.array(high_cbo['before_refac'])\n",
    "cls_after = np.array(high_cbo['after_refac'])\n",
    "z_statistic, p_value = wilcoxon(cls_after - cls_before)\n",
    "print(\"p-value \", p_value)"
   ]
  }
 ],
 "metadata": {
  "kernelspec": {
   "display_name": "Python 3",
   "language": "python",
   "name": "python3"
  },
  "language_info": {
   "codemirror_mode": {
    "name": "ipython",
    "version": 3
   },
   "file_extension": ".py",
   "mimetype": "text/x-python",
   "name": "python",
   "nbconvert_exporter": "python",
   "pygments_lexer": "ipython3",
   "version": "3.7.4"
  }
 },
 "nbformat": 4,
 "nbformat_minor": 2
}
