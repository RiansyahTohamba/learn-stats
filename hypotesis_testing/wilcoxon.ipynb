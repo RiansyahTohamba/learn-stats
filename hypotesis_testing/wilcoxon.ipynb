{
 "cells": [
  {
   "cell_type": "code",
   "execution_count": 8,
   "metadata": {},
   "outputs": [
    {
     "name": "stdout",
     "output_type": "stream",
     "text": [
      "one-sample t-test 0.018137235176105812\n",
      "one-sample wilcoxon-test 0.026157182329284684\n"
     ]
    }
   ],
   "source": [
    "# Mathieu Blondel, February 2012\n",
    "# License: BSD 3 clause\n",
    "# Port to Python of examples in chapter 5 of \"Introductory Statistics with R\" by Peter Dalgaard\n",
    "\n",
    "import numpy as np\n",
    "from scipy.stats import ttest_1samp, wilcoxon, ttest_ind, mannwhitneyu\n",
    "\n",
    "# asupan harian of energy in kJ for 11 women\n",
    "daily_intake = np.array([5260,5470,5640,6180,6390,6515,\n",
    "                         6805,7515,7515,8230,8770])\n",
    "\n",
    "# one sample t-test,null hypothesis: expected value = 7725\n",
    "t_statistic, p_value = ttest_1samp(daily_intake, 7725)\n",
    "\n",
    "# p_value < 0.05 => alternative hypothesis:\n",
    "# data deviate significantly from the hypothesis that the mean\n",
    "# is 7725 at the 5% level of significance\n",
    "print(\"one-sample t-test\", p_value)\n",
    "\n",
    "# one sample wilcoxon-test\n",
    "z_statistic, p_value = wilcoxon(daily_intake - 7725)\n",
    "print(\"one-sample wilcoxon-test\", p_value)"
   ]
  },
  {
   "cell_type": "code",
   "execution_count": 9,
   "metadata": {},
   "outputs": [],
   "source": [
    "# energy expenditure in mJ and stature (0=obese, 1=lean)\n",
    "energ = np.array([\n",
    "    [9.21, 0],[7.53, 1], [7.48, 1], [8.08, 1], [8.09, 1],[10.15, 1],[8.40, 1],[10.88, 1],[6.13, 1],[7.90, 1],[11.51, 0],[12.79, 0],[7.05, 1],[11.85, 0],[9.97, 0],[7.48, 1],[8.79, 0],[9.69, 0],[9.68, 0],[7.58, 1],[9.19, 0],[8.11, 1]\n",
    "])\n",
    "\n",
    "# similar to expend ~ stature in R\n",
    "group1 = energ[:, 1] == 0\n",
    "group1 = energ[group1][:, 0]\n",
    "group2 = energ[:, 1] == 1\n",
    "group2 = energ[group2][:, 0]"
   ]
  },
  {
   "cell_type": "code",
   "execution_count": null,
   "metadata": {},
   "outputs": [],
   "source": [
    "# two-sample t-test\n",
    "# null hypothesis: the two groups have the same mean\n",
    "# this test assumes the two groups have the same variance...\n",
    "# (can be checked with tests for equal variance)\n",
    "# independent groups: e.g., how boys and girls fare at an exam\n",
    "# dependent groups: e.g., how the same class fare at 2 different exams\n",
    "t_statistic, p_value = ttest_ind(group1, group2)\n",
    "\n",
    "# p_value < 0.05 => alternative hypothesis:\n",
    "# they don't have the same mean at the 5% significance level\n",
    "print( \"two-sample t-test\", p_value)\n",
    "\n",
    "# two-sample wilcoxon test\n",
    "# a.k.a Mann Whitney U\n",
    "u, p_value = mannwhitneyu(group1, group2)\n",
    "print( \"two-sample wilcoxon-test\", p_value)\n",
    "\n",
    "# pre and post-menstrual energy intake\n",
    "intake = np.array([\n",
    "    [5260, 3910],[5470, 4220],[5640, 3885],[6180, 5160],[6390, 5645],[6515, 4680],\n",
    "    [6805, 5265],[7515, 5975],[7515, 6790],[8230, 6900],[8770, 7335]\n",
    "])\n",
    "\n",
    "pre = intake[:, 0]\n",
    "post = intake[:, 1]"
   ]
  },
  {
   "cell_type": "code",
   "execution_count": null,
   "metadata": {},
   "outputs": [],
   "source": [
    "# paired t-test: doing two measurments on the same experimental unit\n",
    "# e.g., before and after a treatment\n",
    "t_statistic, p_value = ttest_1samp(post - pre, 0)\n",
    "\n",
    "# p < 0.05 => alternative hypothesis:\n",
    "# the difference in mean is not equal to 0\n",
    "print(\"paired t-test\", p_value)\n",
    "\n",
    "# alternative to paired t-test when data has an ordinary scale or when not\n",
    "# normally distributed\n",
    "z_statistic, p_value = wilcoxon(post - pre)\n",
    "\n",
    "print( \"paired wilcoxon-test\", p_value)"
   ]
  }
 ],
 "metadata": {
  "kernelspec": {
   "display_name": "Python 3",
   "language": "python",
   "name": "python3"
  },
  "language_info": {
   "codemirror_mode": {
    "name": "ipython",
    "version": 3
   },
   "file_extension": ".py",
   "mimetype": "text/x-python",
   "name": "python",
   "nbconvert_exporter": "python",
   "pygments_lexer": "ipython3",
   "version": "3.7.4"
  }
 },
 "nbformat": 4,
 "nbformat_minor": 2
}
